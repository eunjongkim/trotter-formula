{
 "cells": [
  {
   "cell_type": "markdown",
   "metadata": {},
   "source": [
    "The reason why I'm trying to deal with the difference $\\|\\hat{U} - \\hat{\\mathcal{U}}_m\\|$ of time-evolution operator $$\\hat{U}(T) = e^{-i(\\hat{H}_1 + \\cdots + \\hat{H}_p)T/\\hbar}$$ and its approximant $$\\hat{\\mathcal{U}}_m (T)= (e^{-i\\hat{H}_1T/m\\hbar}\\cdots e^{-i\\hat{H}_pT/m\\hbar})^m$$ where $\\|\\cdots\\|$ is the [operator norm](https://en.wikipedia.org/wiki/Operator_norm) induced by [$\\ell^2$-norm](http://mathworld.wolfram.com/L2-Norm.html) of matrix representation of ket vectors in Hilbert space, is that it offers the lower bound of the fidelity. The proof is as follows:\n"
   ]
  },
  {
   "cell_type": "markdown",
   "metadata": {},
   "source": [
    "<b>Proof</b> : \n",
    "Given an initial state described by a unit-normalized ket vector $|\\psi\\rangle$ ($\\langle\\psi|\\psi\\rangle = \\|\\psi\\|^2=1$), the overlap $\\left|\\langle\\psi|\\hat{U}^\\dagger(T)\\hat{\\mathcal{U}}_m(T)|\\psi\\rangle\\right|$\n",
    "between the final state $\\hat{U}(T)|\\psi\\rangle$ and its approximant $\\hat{\\mathcal{U}}_m(T)|\\psi\\rangle$ is guaranteed to converge, since\n",
    "$$\n",
    "0\\le\\left|\\langle\\psi|\\hat{U}^\\dagger(T)\\hat{\\mathcal{U}}_m(T)|\\psi\\rangle\\right| \\le \\|\\langle\\psi|\\hat{U}^\\dagger(T)\\|\\cdot \\|\\hat{\\mathcal{U}}_m(T)|\\psi\\rangle\\| = 1 \\cdot 1 = 1,\n",
    "$$\n",
    "$$\n",
    "\\left|\\langle\\psi|\\hat{U}^\\dagger(T)\\hat{\\mathcal{U}}_m(T)|\\psi\\rangle\\right| = \\left|\n",
    "\\langle\\psi|\\underbrace{\\hat{U}^\\dagger(T)\\hat{U}(T)}_\\mathbb{1}|\\psi\\rangle+\\langle\\psi|\\hat{U}^\\dagger(T)\\left[\\hat{\\mathcal{U}}_m(T)-\\hat{U}(T)\\right]|\\psi\\rangle \\right|\\ge 1-\\left|\\langle\\psi|\\hat{U}^\\dagger(T)\\left[\\hat{\\mathcal{U}}_m(T)-\\hat{U}(T)\\right]|\\psi\\rangle\\right|,\n",
    "$$\n",
    "$$\n",
    "\\left|\\langle\\psi|\\hat{U}^\\dagger(T)\\left[\\hat{\\mathcal{U}}_m(T)-\\hat{U}(T)\\right]|\\psi\\rangle\\right| \\le \\|\\langle\\psi|\\hat{U}^\\dagger(T)\\|\\cdot \\|\\left[\\hat{\\mathcal{U}}_m(T)-\\hat{U}(T)\\right]|\\psi\\rangle\\| \\le  \\|\\hat{\\mathcal{U}}_m(T)-\\hat{U}(T)\\|,\n",
    "$$"
   ]
  },
  {
   "cell_type": "markdown",
   "metadata": {},
   "source": [
    "$$\\therefore \\max\\left\\{0, 1 - \\|\\hat{\\mathcal{U}}_m(T)-\\hat{U}(T)\\|\\right\\}\\le \\left|\\langle\\psi|\\hat{U}^\\dagger(T)\\hat{\\mathcal{U}}_m(T)|\\psi\\rangle\\right|\\le 1.\\quad \\square\n",
    "$$"
   ]
  },
  {
   "cell_type": "markdown",
   "metadata": {},
   "source": [
    "This is the state-independent lower bound of fidelity."
   ]
  },
  {
   "cell_type": "code",
   "execution_count": 1,
   "metadata": {
    "collapsed": true
   },
   "outputs": [],
   "source": [
    "# setup the matplotlib graphics library and configure it to show \n",
    "# figures inline in the notebook\n",
    "import matplotlib.pyplot as plt\n",
    "import numpy as np"
   ]
  },
  {
   "cell_type": "code",
   "execution_count": 2,
   "metadata": {
    "collapsed": true
   },
   "outputs": [],
   "source": [
    "from matplotlib import rcParams\n",
    "%matplotlib inline\n",
    "rcParams.update({'font.size': 15, 'text.usetex': True})"
   ]
  },
  {
   "cell_type": "code",
   "execution_count": 3,
   "metadata": {
    "collapsed": true
   },
   "outputs": [],
   "source": [
    "from mpl_toolkits.mplot3d.axes3d import Axes3D\n",
    "from matplotlib import cm"
   ]
  },
  {
   "cell_type": "code",
   "execution_count": 4,
   "metadata": {
    "collapsed": true
   },
   "outputs": [],
   "source": [
    "# make qutip available in the rest of the notebook\n",
    "from qutip import *"
   ]
  },
  {
   "cell_type": "code",
   "execution_count": 5,
   "metadata": {
    "collapsed": true
   },
   "outputs": [],
   "source": [
    "# use 2-norm (largest singular value) for our calculation\n",
    "from scipy.linalg import norm"
   ]
  },
  {
   "cell_type": "code",
   "execution_count": 6,
   "metadata": {
    "collapsed": true
   },
   "outputs": [],
   "source": [
    "N = 15     # number of cavity fock states\n",
    "\n",
    "# intial state\n",
    "up, down = basis(2,0), basis(2,1)\n",
    "\n",
    "psi_list = []\n",
    "psi_list.append(tensor(basis(N,0), up))          # |n=0, e>\n",
    "psi_list.append(tensor(basis(N,1), down))        # |n=1, g>\n",
    "psi_list.append(tensor(coherent(N,0.85), up))    # |alpha=0.85, e>\n",
    "psi_list.append(tensor(coherent(N,0.85), down))  # |alpha=0.85, g>\n",
    "\n",
    "# operators\n",
    "a  = tensor(destroy(N), qeye(2))\n",
    "sp, sm = tensor(qeye(N), sigmap()), tensor(qeye(N), sigmam())\n",
    "sx, sy, sz = tensor(qeye(N), sigmax()), tensor(qeye(N), sigmay()), tensor(qeye(N), sigmaz())"
   ]
  },
  {
   "cell_type": "code",
   "execution_count": 7,
   "metadata": {
    "collapsed": false
   },
   "outputs": [],
   "source": [
    "wc = 1.0  * 2 * np.pi  # cavity frequency\n",
    "wa = 1.0  * 2 * np.pi  # atom frequency\n",
    "g  = 0.05 * 2 * np.pi  # coupling strength\n",
    "\n",
    "# Rabi Model Hamiltonian decomposed into two parts:\n",
    "H_list = [wc * a.dag() * a + 0.5 * wa * sz + g,\n",
    "          g * (a * sm.dag() + a.dag() * sm),\n",
    "          g * (a.dag() * sm.dag() + a * sm)]\n",
    "H = sum(H_list)"
   ]
  },
  {
   "cell_type": "code",
   "execution_count": 8,
   "metadata": {
    "collapsed": true
   },
   "outputs": [],
   "source": [
    "def U(H, T):\n",
    "    # normal time-evolution\n",
    "    return (-1j * H * T).expm()\n",
    "\n",
    "def U_a(H_list, T, m):\n",
    "    # time-evolution approximant\n",
    "    mult = 1\n",
    "    for idx in range(len(H_list)):\n",
    "        mult = mult * (-1j * H_list[idx] * T / m).expm()\n",
    "    return mult ** m"
   ]
  },
  {
   "cell_type": "code",
   "execution_count": 9,
   "metadata": {
    "collapsed": true
   },
   "outputs": [],
   "source": [
    "M = 100   # maximum fragmentation number\n",
    "m_list = range(1, M+1)"
   ]
  },
  {
   "cell_type": "code",
   "execution_count": 10,
   "metadata": {
    "collapsed": true
   },
   "outputs": [],
   "source": [
    "TT = 6     # maximum value of the total evolution time\n",
    "dT = 2     # time step\n",
    "\n",
    "T_list = np.arange(1, TT, dT)"
   ]
  },
  {
   "cell_type": "code",
   "execution_count": 11,
   "metadata": {
    "collapsed": false
   },
   "outputs": [],
   "source": [
    "overlaps = []\n",
    "for i in range(len(psi_list)):\n",
    "    overlaps.append(np.zeros((len(m_list), len(T_list))))\n",
    "\n",
    "for idx, overlap in enumerate(overlaps):\n",
    "    for i1, m in enumerate(m_list):\n",
    "        for i2, T in enumerate(T_list):\n",
    "            overlap[i1, i2] = fidelity(U_a(H_list, T, m) * psi_list[idx],\n",
    "                                   U(H, T) * psi_list[idx])"
   ]
  },
  {
   "cell_type": "code",
   "execution_count": 12,
   "metadata": {
    "collapsed": true
   },
   "outputs": [],
   "source": [
    "error = np.zeros((len(m_list), len(T_list)))\n",
    "\n",
    "for i1, m in enumerate(m_list):\n",
    "    for i2, T in enumerate(T_list):\n",
    "        error[i1, i2] = norm((U_a(H_list, T, m)- U(H, T)).full(),2)"
   ]
  },
  {
   "cell_type": "code",
   "execution_count": 13,
   "metadata": {
    "collapsed": false
   },
   "outputs": [
    {
     "data": {
      "image/png": "[encoded data removed]",
      "text/plain": [
       "<matplotlib.figure.Figure at 0x106064b38>"
      ]
     },
     "metadata": {},
     "output_type": "display_data"
    },
    {
     "data": {
      "image/png": "[encoded data removed]",
      "text/plain": [
       "<matplotlib.figure.Figure at 0x106064b38>"
      ]
     },
     "metadata": {},
     "output_type": "display_data"
    }
   ],
   "source": [
    "fig, ax = plt.subplots(1, len(T_list), figsize = (4 * len(T_list), 3.2))\n",
    "labels = [r'$|n=0, e\\rangle$', r'$|n=1, g \\rangle$',\n",
    "          r'$|\\alpha=0.85, e\\rangle$', r'$|\\alpha=0.85, g\\rangle$']\n",
    "\n",
    "for i1, T in enumerate(T_list):\n",
    "    for idx, overlap in enumerate(overlaps):\n",
    "        ax[i1].step(m_list, overlap[:, i1], lw=1, label=labels[idx])\n",
    "    ax[i1].step(m_list, np.ones(len(m_list)) - np.array(error[:, i1]), label='Lower Bound')\n",
    "    ax[i1].set_xlim([1, 51])\n",
    "    ax[i1].set_ylim([0, 1.1])\n",
    "    ax[i1].set_xlabel(r'$m$')\n",
    "    ax[i1].set_title(r'$\\omega T / 2\\pi = %.1f$' % T)\n",
    "ax[0].legend(bbox_to_anchor=(0., 1.2, 3.4, .08), loc=3, ncol=3, mode=\"expand\", borderaxespad=0.)\n",
    "ax[0].set_ylabel('Fidelity');"
   ]
  },
  {
   "cell_type": "markdown",
   "metadata": {},
   "source": [
    "As can be seen from the figure, there exists a state-independent lower bound which approaches unity as $m\\rightarrow\\infty$. Surprisingly, the fidelity between the final state which is time-evolved by the total Hamiltonian and its approximant is largely independent of the initial state."
   ]
  }
 ],
 "metadata": {
  "kernelspec": {
   "display_name": "Python 3",
   "language": "python",
   "name": "python3"
  },
  "language_info": {
   "codemirror_mode": {
    "name": "ipython",
    "version": 3
   },
   "file_extension": ".py",
   "mimetype": "text/x-python",
   "name": "python",
   "nbconvert_exporter": "python",
   "pygments_lexer": "ipython3",
   "version": "3.4.3"
  }
 },
 "nbformat": 4,
 "nbformat_minor": 0
}
